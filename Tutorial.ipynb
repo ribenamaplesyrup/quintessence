{
 "cells": [
  {
   "cell_type": "markdown",
   "id": "82ae31ca",
   "metadata": {},
   "source": [
    "For a given company number, the tool will grab data from Companies House and then attempt to score the company on a number of criteria. The higher the score, the more red flags and the greater the suggestion to investigate the company. \n",
    "\n",
    "Currently the following flags are evaluated: \n",
    "\n",
    "- person's name is fake / in bad reputation list / looks random\n",
    "- person's name is mentioned in the news\n",
    "- person's nationality is from a list of red flag countries\n",
    "- person's country of residence is from a list of red flag countries\n",
    "- person's age is problematic"
   ]
  },
  {
   "cell_type": "markdown",
   "id": "8431fa2f",
   "metadata": {},
   "source": [
    "### KINGDOM OF SWEETS LTD"
   ]
  },
  {
   "cell_type": "code",
   "execution_count": null,
   "id": "1642ce77",
   "metadata": {},
   "outputs": [],
   "source": [
    "!python main.py 11004735"
   ]
  },
  {
   "cell_type": "markdown",
   "id": "e235722d",
   "metadata": {},
   "source": [
    "We can see officers and pscs are comprised of the same single person with a red flag raised due to mention of the officer and company in the news. A quick scan of the news articles suggests the company is embroiled in unpaid taxes and scandal. "
   ]
  },
  {
   "cell_type": "markdown",
   "id": "2e78863e",
   "metadata": {},
   "source": [
    "### WEIGHT A MINUTE LTD"
   ]
  },
  {
   "cell_type": "code",
   "execution_count": null,
   "id": "13dc5c15",
   "metadata": {},
   "outputs": [],
   "source": [
    "!python main.py 08881386"
   ]
  },
  {
   "cell_type": "markdown",
   "id": "71016851",
   "metadata": {},
   "source": [
    "Weight A Minute is blessed to have a an officer with a God complex."
   ]
  },
  {
   "cell_type": "markdown",
   "id": "05bb5eb9",
   "metadata": {},
   "source": [
    "### PIZZAEXPRESS GROUP HOLDINGS LIMITED"
   ]
  },
  {
   "cell_type": "code",
   "execution_count": null,
   "id": "8a77379e",
   "metadata": {},
   "outputs": [],
   "source": [
    "!python main.py 09115780"
   ]
  },
  {
   "cell_type": "markdown",
   "id": "c7c432c3",
   "metadata": {},
   "source": [
    "Many of Pizza Express' officers are from countries outside the UK. "
   ]
  },
  {
   "cell_type": "markdown",
   "id": "dd2c89f0",
   "metadata": {},
   "source": [
    "### RIGHT TIME RECRUITMENT LIMITED"
   ]
  },
  {
   "cell_type": "code",
   "execution_count": null,
   "id": "2945f5b7",
   "metadata": {},
   "outputs": [],
   "source": [
    "!python main.py 10370306"
   ]
  },
  {
   "cell_type": "markdown",
   "id": "7a46ff07",
   "metadata": {},
   "source": [
    "One of the famous officers from Right Time Recruitment was flagged for being above the age of 70. "
   ]
  },
  {
   "cell_type": "markdown",
   "id": "6265e6d4",
   "metadata": {},
   "source": [
    "Longer term we intend to implement many other flags and allow users to integrate their own easily. Some other flags in the pipeline are:"
   ]
  },
  {
   "cell_type": "markdown",
   "id": "c5e4aaa0",
   "metadata": {},
   "source": [
    "- are there any pscs?\n",
    "- does the company have a weird sic code? \n",
    "- is the company compliant in its reporting frequency?\n",
    "- is the company dormant currently?\n",
    "- has the company been dormant in previous years? \n",
    "- does the company have a fake or non-existant address? \n",
    "- does the registered address contain a high proportion of short lived, dissolved or fraudulent businesses? \n",
    "- does the officer have a large number of mandates? \n",
    "- does the officers companies frequently dissolve or lie dormant? \n",
    "- does a filing have inconsistencies? \n",
    "- do filings demonstrate losses? "
   ]
  }
 ],
 "metadata": {
  "kernelspec": {
   "display_name": "Python 3 (ipykernel)",
   "language": "python",
   "name": "python3"
  },
  "language_info": {
   "codemirror_mode": {
    "name": "ipython",
    "version": 3
   },
   "file_extension": ".py",
   "mimetype": "text/x-python",
   "name": "python",
   "nbconvert_exporter": "python",
   "pygments_lexer": "ipython3",
   "version": "3.9.13"
  }
 },
 "nbformat": 4,
 "nbformat_minor": 5
}
